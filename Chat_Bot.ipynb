{
  "nbformat": 4,
  "nbformat_minor": 0,
  "metadata": {
    "colab": {
      "name": "Chat_Bot.ipynb",
      "provenance": [],
      "collapsed_sections": [],
      "authorship_tag": "ABX9TyOX2S0PHiYJMfWxGuFzFhUm",
      "include_colab_link": true
    },
    "kernelspec": {
      "name": "python3",
      "display_name": "Python 3"
    },
    "language_info": {
      "name": "python"
    }
  },
  "cells": [
    {
      "cell_type": "markdown",
      "metadata": {
        "id": "view-in-github",
        "colab_type": "text"
      },
      "source": [
        "<a href=\"https://colab.research.google.com/github/toinnn/Chat_Bot/blob/master/Chat_Bot.ipynb\" target=\"_parent\"><img src=\"https://colab.research.google.com/assets/colab-badge.svg\" alt=\"Open In Colab\"/></a>"
      ]
    },
    {
      "cell_type": "code",
      "execution_count": null,
      "metadata": {
        "id": "QIg39CJSnDdg",
        "colab": {
          "base_uri": "https://localhost:8080/"
        },
        "outputId": "b3d74b5b-d8a1-4ede-dfb6-d2a36f69cf6f"
      },
      "outputs": [
        {
          "output_type": "stream",
          "name": "stdout",
          "text": [
            "Mounted at /content/drive\n"
          ]
        }
      ],
      "source": [
        "from google.colab import drive\n",
        "drive.mount('/content/drive')"
      ]
    },
    {
      "cell_type": "code",
      "source": [
        "Git_Dir    = \"/content/drive/MyDrive/Github_Dir/Chat_Bot\"\n",
        "Neural_Dir = \"Machine-Learning__Deep-Learning\"\n",
        "with open(\"/content/drive/MyDrive/Github_Dir/acess_Token_Git.txt\",\"r\") as file:\n",
        "    acess_Token_Git = file.read()\n",
        "Git_Path   = \"https://\"+ acess_Token_Git + \"@github.com/toinnn/\" + Neural_Dir + \".git\"\n",
        "Git_CB_Path= \"https://\"+ acess_Token_Git + \"@github.com/toinnn/\" + \"Chat_Bot\" + \".git\""
      ],
      "metadata": {
        "id": "FHFrjufquZPT"
      },
      "execution_count": null,
      "outputs": []
    },
    {
      "cell_type": "code",
      "source": [
        "!git clone \"{Git_Path}\" ./temp/Machine-Learning__Deep-Learning\n",
        "!git clone \"{Git_CB_Path}\" ./temp/Chat_Bot\n",
        "\n",
        "!mv ./temp/* \"{Git_Dir}\"\n",
        "!rm -rf ./temp \n",
        "\n",
        "!rsync -aP \"{Git_Dir}\"/*  ./\n",
        "#!ln -s \"/content/drive/MyDrive/Github_Dir/Chat_Bot\" + Neural_Dir NLP"
      ],
      "metadata": {
        "id": "yxOPQqF2NNhE"
      },
      "execution_count": null,
      "outputs": []
    },
    {
      "cell_type": "code",
      "source": [
        "class counter():\n",
        "    def __init__(self):\n",
        "        self.ctd = 0\n",
        "    def add(self):\n",
        "        self.ctd += 1\n",
        "ctd = counter()\n",
        "# add = lambda : ctd+=1\n",
        "def charNgram(text : str , n : int ) -> list:\n",
        "    var = {}\n",
        "    text = text.split()\n",
        "    ctd.add()\n",
        "    for word in text :\n",
        "        for i in range(0 ,len(word) -n + 1 , n):#n\n",
        "            var.update({word[i : i + j] : None for j in range(n+1) })\n",
        "        var.update({ word[- (len(word)%n):] : None})\n",
        "\n",
        "    print(ctd.ctd)\n",
        "    # var += [text[- (len(text)%n):]]\n",
        "    print(tuple(var.keys()))\n",
        "    print(\"funciono   muito isso\".split())  \n",
        "charNgram(\"cincocinco\" , 4 )"
      ],
      "metadata": {
        "colab": {
          "base_uri": "https://localhost:8080/"
        },
        "id": "LOLkChh_deHk",
        "outputId": "cd0ed86e-f928-48bd-8153-ba7bba806f5e"
      },
      "execution_count": 56,
      "outputs": [
        {
          "output_type": "stream",
          "name": "stdout",
          "text": [
            "1\n",
            "('', 'c', 'ci', 'cin', 'cinc', 'o', 'oc', 'oci', 'ocin', 'co')\n",
            "['funciono', 'muito', 'isso']\n"
          ]
        }
      ]
    },
    {
      "cell_type": "code",
      "source": [
        "%cd \"/content/{Neural_Dir}\"\n",
        "from BiLSTM import BiLSTM ,BiLSTM_Attention\n",
        "%cd /content/Chat_Bot\n",
        "\n",
        "\n",
        "\n",
        "\n",
        "\n",
        "print(\"Rodei 123\")\n"
      ],
      "metadata": {
        "colab": {
          "base_uri": "https://localhost:8080/"
        },
        "id": "mp7seqT8u9Ot",
        "outputId": "ce3bf4ca-35fb-45ec-9ab3-f6a7d572768b"
      },
      "execution_count": null,
      "outputs": [
        {
          "output_type": "stream",
          "name": "stdout",
          "text": [
            "/content/Machine-Learning__Deep-Learning\n",
            "teste\n",
            "/content/Chat_Bot\n",
            "Rodei 123\n"
          ]
        }
      ]
    },
    {
      "cell_type": "code",
      "source": [
        "# path = \"/content/drive/MyDrive/Colab Notebooks/Chat_Bot.ipynb\"\n",
        "# !rsync -aP \"{path}\" /content/Chat_Bot\n",
        "\n",
        "# !git clone \"{Git_CB_Path}\" ./temp\n",
        "# !rsync -aP /content/Chat_Bot/* ./temp\n",
        "# %cd ./temp\n",
        "# !git add -u\n",
        "# !git commit -m \"update\"\n",
        "# !git config user.email \"limaalyson@hotmail.com\"\n",
        "# !git config user.name \"Alyson_Google_Colab\"\n",
        "# !git push origin master\n",
        "# %cd /content\n",
        "# !rm -rf ./temp\n"
      ],
      "metadata": {
        "id": "idUUlda31aaZ",
        "colab": {
          "base_uri": "https://localhost:8080/"
        },
        "outputId": "50fd2dc0-3fb3-49dd-fab2-878113c46810"
      },
      "execution_count": null,
      "outputs": [
        {
          "output_type": "stream",
          "name": "stdout",
          "text": [
            "sending incremental file list\n",
            "Chat_Bot.ipynb\n",
            "\r          4,698 100%    0.00kB/s    0:00:00  \r          4,698 100%    0.00kB/s    0:00:00 (xfr#1, to-chk=0/1)\n",
            "Cloning into './temp'...\n",
            "remote: Enumerating objects: 12, done.\u001b[K\n",
            "remote: Counting objects: 100% (12/12), done.\u001b[K\n",
            "remote: Compressing objects: 100% (9/9), done.\u001b[K\n",
            "remote: Total 12 (delta 1), reused 6 (delta 1), pack-reused 0\u001b[K\n",
            "Unpacking objects: 100% (12/12), done.\n",
            "sending incremental file list\n",
            "Chat_Bot.ipynb\n",
            "          4,698 100%    0.00kB/s    0:00:00 (xfr#1, to-chk=1/2)\n",
            "README.md\n",
            "             10 100%    9.77kB/s    0:00:00 (xfr#2, to-chk=0/2)\n",
            "/content/temp\n",
            "[master 0b8e7fd] update\n",
            " 1 file changed, 1 insertion(+), 1 deletion(-)\n",
            " rewrite Chat_Bot.ipynb (95%)\n",
            "Counting objects: 3, done.\n",
            "Delta compression using up to 2 threads.\n",
            "Compressing objects: 100% (3/3), done.\n",
            "Writing objects: 100% (3/3), 663 bytes | 663.00 KiB/s, done.\n",
            "Total 3 (delta 1), reused 0 (delta 0)\n",
            "remote: Resolving deltas: 100% (1/1), completed with 1 local object.\u001b[K\n",
            "To https://github.com/toinnn/Chat_Bot.git\n",
            "   9aed345..0b8e7fd  master -> master\n",
            "/content\n"
          ]
        }
      ]
    }
  ]
}